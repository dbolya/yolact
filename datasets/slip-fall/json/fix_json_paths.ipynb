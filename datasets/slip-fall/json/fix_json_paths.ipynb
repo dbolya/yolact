{
 "cells": [
  {
   "cell_type": "code",
   "execution_count": 12,
   "metadata": {},
   "outputs": [],
   "source": [
    "import json, os\n",
    "# This short script fixes file path locations in COCO labelled data. \n",
    "with open('../../../../datasets/slip-fall/slip-fall-training/slip-fall-1714-annotations.json') as f:\n",
    "    json_dict = json.load(f)\n",
    "\n",
    "base_path = '.'\n",
    "for file in json_dict['images']:\n",
    "    try:\n",
    "        file['path'] = os.path.join(base_path, os.path.basename(file['path']))\n",
    "    except KeyError:\n",
    "        file['file_name'] = os.path.join(base_path, os.path.basename(file['file_name']))\n",
    "\n",
    "with open('../../../../datasets/slip-fall/slip-fall-training/fixed-slip-fall-1714-annotations.json', 'w') as o:\n",
    "    json.dump(json_dict, o)"
   ]
  }
 ],
 "metadata": {
  "interpreter": {
   "hash": "d7997ca2cf6f82a32cba4455fba40e779da088b6fcef0f47d94689f04f3d2f0e"
  },
  "kernelspec": {
   "display_name": "Python 3.7.12 64-bit ('YOLACT': conda)",
   "language": "python",
   "name": "python3"
  },
  "language_info": {
   "codemirror_mode": {
    "name": "ipython",
    "version": 3
   },
   "file_extension": ".py",
   "mimetype": "text/x-python",
   "name": "python",
   "nbconvert_exporter": "python",
   "pygments_lexer": "ipython3",
   "version": "3.7.12"
  },
  "orig_nbformat": 4
 },
 "nbformat": 4,
 "nbformat_minor": 2
}
