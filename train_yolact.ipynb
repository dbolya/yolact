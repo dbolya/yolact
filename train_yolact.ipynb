{
 "cells": [
  {
   "cell_type": "code",
   "execution_count": null,
   "id": "db600f22",
   "metadata": {},
   "outputs": [],
   "source": [
    "from Repsycle.interact_utils import InteractAPI\n",
    "import torchvision\n",
    "from torch.optim.lr_scheduler import ReduceLROnPlateau\n",
    "from torch.utils.data import DataLoader\n",
    "from torch import nn, optim\n",
    "from torchvision import models, transforms\n",
    "from torch.utils.data import Dataset\n",
    "from torch.optim import lr_scheduler\n",
    "import random\n",
    "import numpy as np\n",
    "from io import BytesIO\n",
    "import matplotlib.pyplot as plt\n",
    "import base64\n",
    "import PIL\n",
    "from PIL import Image\n",
    "import json\n",
    "import os\n",
    "import cv2\n",
    "from sklearn.model_selection import StratifiedShuffleSplit\n",
    "import time\n",
    "import copy\n",
    "from tqdm import tqdm\n",
    "import pandas as pd\n",
    "import torch\n",
    "import random\n",
    "import numpy as np\n",
    "import yaml\n",
    "import shutil\n",
    "from IPython.display import JSON"
   ]
  },
  {
   "cell_type": "markdown",
   "id": "665ed705",
   "metadata": {},
   "source": [
    "# Set variables"
   ]
  },
  {
   "cell_type": "code",
   "execution_count": null,
   "id": "717cb01c",
   "metadata": {},
   "outputs": [],
   "source": [
    "# Set interact parameters \n",
    "username = None\n",
    "assert username is not None\n",
    "password = None\n",
    "assert password is not None\n",
    "api_root = \"https://interact-api.psycle.io/api/v1\"\n",
    "project_id = None  # Project name\n",
    "assert password is not None\n",
    "analysis_id = None  # Analysis name\n",
    "assert analysis_id is not None\n",
    "\n",
    "filters = {'annotations__isnull': False, 'annotations__analysis': analysis_id}\n",
    "\n",
    "# Set file structure \n",
    "project_path = f'{os.getcwd()}'\n",
    "\n",
    "image_folder = f\"{project_path}/images\"\n",
    "datas_folder = f\"{project_path}/annotations\"\n",
    "weights_folder = f'{project_path}/weights'\n",
    "augmented_image_folder = f'{project_path}/augmented_images'\n",
    "\n",
    "datas_path = f'{datas_folder}/datas.json'\n",
    "train_annotations_path = f'{datas_folder}/train_annotations.json'\n",
    "val_annotations_path = f'{datas_folder}/val_annotations.json'\n",
    "\n",
    "train_annotations_yolact_path = f'{datas_folder}/train_annotations_yolact.json'\n",
    "val_annotations_yolact_path = f'{datas_folder}/val_annotations_yolact.json'\n",
    "\n",
    "\n",
    "image_extension = 'png'\n",
    "\n",
    "seed = 42\n",
    "\n",
    "# Create file structure\n",
    "if not os.path.exists(image_folder):\n",
    "    os.mkdir(image_folder)\n",
    "if not os.path.exists(datas_folder):\n",
    "    os.mkdir(datas_folder)\n",
    "if not os.path.exists(weights_folder):\n",
    "    os.mkdir(weights_folder)\n",
    "if not os.path.exists(augmented_image_folder):\n",
    "    os.mkdir(augmented_image_folder)"
   ]
  },
  {
   "cell_type": "code",
   "execution_count": null,
   "id": "fdc303dd",
   "metadata": {},
   "outputs": [],
   "source": [
    "def save_json(path,file_to_save):\n",
    "    with open(path,'w') as f:\n",
    "        json.dump(file_to_save, f)\n",
    "        \n",
    "def open_json(path):\n",
    "    with open(path, 'r') as f:\n",
    "        file = json.load(f)\n",
    "    return file\n",
    "\n",
    "def get_image_path(data_id: str):\n",
    "    return f'{image_folder}/{data_id}'"
   ]
  },
  {
   "cell_type": "markdown",
   "id": "af58dd0a",
   "metadata": {},
   "source": [
    "# Get API"
   ]
  },
  {
   "cell_type": "code",
   "execution_count": null,
   "id": "d8e1bf79",
   "metadata": {},
   "outputs": [],
   "source": [
    "interactAPI = InteractAPI(username, password, api_root)"
   ]
  },
  {
   "cell_type": "markdown",
   "id": "d1a50be7",
   "metadata": {},
   "source": [
    "### Download all annotations"
   ]
  },
  {
   "cell_type": "code",
   "execution_count": null,
   "id": "a2dc81ee",
   "metadata": {
    "scrolled": true
   },
   "outputs": [],
   "source": [
    "datas = interactAPI.get_datas(project_id, **filters)\n",
    "save_json(datas_path, datas)"
   ]
  },
  {
   "cell_type": "code",
   "execution_count": null,
   "id": "3a520a2f",
   "metadata": {},
   "outputs": [],
   "source": [
    "datas = open_json(datas_path)\n",
    "print(f'Number of images: {len(datas)}')"
   ]
  },
  {
   "cell_type": "markdown",
   "id": "83f93bb8",
   "metadata": {},
   "source": [
    "### Set labels"
   ]
  },
  {
   "cell_type": "code",
   "execution_count": null,
   "id": "f3a897d2",
   "metadata": {},
   "outputs": [],
   "source": [
    "label_to_int = {}\n",
    "for idx, label in enumerate(datas[0]['annotations'][0]['analysis']['labels']):\n",
    "    label_to_int[label] = idx\n",
    "label_to_int['background'] = idx+1\n",
    "int_to_label = {v: k for k, v in label_to_int.items()}\n",
    "\n",
    "print(f'label_to_int: {label_to_int}')\n",
    "print(f'int_to_label: {int_to_label}')"
   ]
  },
  {
   "cell_type": "markdown",
   "id": "6a137e3b",
   "metadata": {},
   "source": [
    "### Download all images "
   ]
  },
  {
   "cell_type": "code",
   "execution_count": null,
   "id": "ef11ee47",
   "metadata": {},
   "outputs": [],
   "source": [
    "data_ids = [data['id'] for data in datas]\n",
    "interactAPI.download_images(project_id, data_ids, images_folder_path=image_folder, verbose=True)"
   ]
  },
  {
   "cell_type": "code",
   "execution_count": null,
   "id": "e17db46f",
   "metadata": {},
   "outputs": [],
   "source": [
    "# datas = open_json(datas_path)\n",
    "\n",
    "# for data in tqdm(datas):\n",
    "#     data_id = data['id']\n",
    "#     image_path = get_image_path(data_id)\n",
    "#     if not os.path.exists(image_path):\n",
    "#         image = interactAPI.get_image(project_id, data_id, base64=True)\n",
    "#         image = base64.b64decode(image)\n",
    "#         image = Image.open(BytesIO(image))\n",
    "#         image.save(image_path)"
   ]
  },
  {
   "cell_type": "markdown",
   "id": "8bd344ad",
   "metadata": {},
   "source": [
    "### Filter datas"
   ]
  },
  {
   "cell_type": "code",
   "execution_count": null,
   "id": "e387b60a",
   "metadata": {},
   "outputs": [],
   "source": [
    "datas = open_json(datas_path)\n",
    "filtered_datas = {}\n",
    "\n",
    "for data in datas:\n",
    "    data_id = data['id']\n",
    "    \n",
    "    labels = []\n",
    "    coordinates = []\n",
    "    viewed = data['viewed']\n",
    "    annotations = data['annotations']\n",
    "    \n",
    "    if len(annotations) > 0:\n",
    "        for idx in range(len(annotations)):\n",
    "            labels.append(annotations[idx]['label'])\n",
    "            coordinates.append(annotations[idx]['coordinates'])\n",
    "            \n",
    "    if len(labels) == 0:\n",
    "        labels = ['background']\n",
    "    \n",
    "    if data['viewed']:        \n",
    "        filtered_datas[data_id] = {\n",
    "            'label': labels,\n",
    "            'coordinates': coordinates\n",
    "        }"
   ]
  },
  {
   "cell_type": "markdown",
   "id": "a398edc4",
   "metadata": {},
   "source": [
    "### Visualize some image"
   ]
  },
  {
   "cell_type": "code",
   "execution_count": null,
   "id": "24286654",
   "metadata": {},
   "outputs": [],
   "source": [
    "width, height = 4, 4\n",
    "fig, axs = plt.subplots(width,height, figsize=(15, 15))\n",
    "fig.subplots_adjust(hspace = .5, wspace=.001)\n",
    "axs = axs.ravel()\n",
    "\n",
    "keys = list(filtered_datas.keys())\n",
    "annotations = list(filtered_datas.values())\n",
    "idxs = np.random.randint(0, len(keys), width * height)\n",
    "\n",
    "for plot_idx, i in enumerate(idxs):\n",
    "    data_id = keys[i]\n",
    "    img = cv2.imread(get_image_path(data_id))\n",
    "    img = cv2.cvtColor(img, cv2.COLOR_BGR2RGB)\n",
    "    h,w,_ = img.shape\n",
    "    size = (w,h)\n",
    "    coordinates = annotations[i]['coordinates']\n",
    "    classes = annotations[i]['label']\n",
    "    \n",
    "    for coord in coordinates:\n",
    "        # Format coords for cv2 contours\n",
    "        contours = np.zeros(((len(coord) // 2), 2))\n",
    "        for i in range(0, len(coord), 2):\n",
    "            contours[i//2] = [coord[i], coord[i+1]]\n",
    "        contours = contours.astype(int)\n",
    "        cv2.polylines(img, pts =[contours], isClosed=True, color=(255, 0, 0), thickness=5)\n",
    "\n",
    "    axs[plot_idx].imshow(img)\n",
    "    axs[plot_idx].set_title(label)"
   ]
  },
  {
   "cell_type": "markdown",
   "id": "3b4d731c",
   "metadata": {},
   "source": [
    "### Labels distribution"
   ]
  },
  {
   "cell_type": "code",
   "execution_count": null,
   "id": "4183d0fa",
   "metadata": {},
   "outputs": [],
   "source": [
    "labels = []\n",
    "for key, value in filtered_datas.items():\n",
    "    for label in value['label']:\n",
    "        labels.append(label)\n",
    "\n",
    "plt.plot(figsize=(20,20))\n",
    "plt.hist(labels)\n",
    "plt.show()"
   ]
  },
  {
   "cell_type": "markdown",
   "id": "395e6acd",
   "metadata": {},
   "source": [
    "### Split train and test"
   ]
  },
  {
   "cell_type": "code",
   "execution_count": null,
   "id": "5c225add",
   "metadata": {},
   "outputs": [],
   "source": [
    "y = []\n",
    "for key, value in filtered_datas.items():\n",
    "    y.append(value['label'][0])\n",
    "\n",
    "image_classes = [value['label'] for key, value in filtered_datas.items()]\n",
    "image_coordinates = [value['coordinates'] for key, value in filtered_datas.items()]\n",
    "image_ids = list(filtered_datas.keys())\n",
    "\n",
    "X = np.asarray(image_ids)\n",
    "y = np.asarray(y)\n",
    "\n",
    "val_size = int(0.2*len(X))\n",
    "\n",
    "sss = StratifiedShuffleSplit(n_splits=1, test_size=val_size, random_state=seed)\n",
    "split = sss.split(X, y)\n",
    "train_index, test_index = next(split)\n",
    "\n",
    "\n",
    "train_annotations = {}\n",
    "\n",
    "for idx in train_index:\n",
    "    train_annotations[image_ids[idx]] = {\n",
    "        'label':image_classes[idx], \n",
    "        'coordinates':image_coordinates[idx]\n",
    "    }\n",
    "\n",
    "val_annotations = {}\n",
    "for idx in test_index:\n",
    "    val_annotations[image_ids[idx]] = {\n",
    "        'label':image_classes[idx], \n",
    "        'coordinates':image_coordinates[idx]\n",
    "    }\n",
    "\n",
    "save_json(train_annotations_path, train_annotations)\n",
    "save_json(val_annotations_path, val_annotations)\n",
    "\n",
    "print(f'Number of annotations for training: {len(train_annotations)}')\n",
    "print(f'Number of annotations for validation: {len(val_annotations)}')"
   ]
  },
  {
   "cell_type": "code",
   "execution_count": null,
   "id": "dda41ff8",
   "metadata": {},
   "outputs": [],
   "source": [
    "labels = []\n",
    "for key, value in train_annotations.items():\n",
    "    for label in value['label']:\n",
    "        labels.append(label)\n",
    "\n",
    "plt.plot(figsize=(20,20))\n",
    "plt.hist(labels)\n",
    "plt.show()\n",
    "print('Training distribution')"
   ]
  },
  {
   "cell_type": "code",
   "execution_count": null,
   "id": "8a7d8a88",
   "metadata": {},
   "outputs": [],
   "source": [
    "labels = []\n",
    "for key, value in val_annotations.items():\n",
    "    for label in value['label']:\n",
    "        labels.append(label)\n",
    "\n",
    "plt.plot(figsize=(20,20))\n",
    "plt.hist(labels)\n",
    "plt.show()\n",
    "print('Validation distribution')"
   ]
  },
  {
   "cell_type": "markdown",
   "id": "fe25b84d",
   "metadata": {},
   "source": [
    "# Load on yolact"
   ]
  },
  {
   "cell_type": "code",
   "execution_count": null,
   "id": "e130843b",
   "metadata": {},
   "outputs": [],
   "source": [
    "!git clone git@github.com:PsycleResearch/yolact.git"
   ]
  },
  {
   "cell_type": "markdown",
   "id": "063bed7d",
   "metadata": {},
   "source": [
    "### Get image shape"
   ]
  },
  {
   "cell_type": "code",
   "execution_count": null,
   "id": "c4b532e9",
   "metadata": {},
   "outputs": [],
   "source": [
    "data_id = list(val_annotations.keys())[0]\n",
    "image_path = get_image_path(data_id)\n",
    "shape = cv2.imread(image_path).shape"
   ]
  },
  {
   "cell_type": "code",
   "execution_count": null,
   "id": "03532a20",
   "metadata": {},
   "outputs": [],
   "source": [
    "labels = list(label_to_int.keys())\n",
    "labels.remove('background')\n",
    "\n",
    "categories = [{\n",
    "        \"supercategory\": None, \n",
    "        \"id\": i+1,\n",
    "        \"name\": label\n",
    "    } for i, label in enumerate(labels)]\n",
    "\n",
    "labels_categories_mapping = {}\n",
    "for category in categories:\n",
    "    labels_categories_mapping[category['name']] = category['id']\n",
    "\n",
    "\n",
    "for annotations_set in [(train_annotations, train_annotations_yolact_path), (val_annotations, val_annotations_yolact_path)]:\n",
    "    yolact_annotations = []\n",
    "    yolact_images = []\n",
    "    nb_annotations = 0\n",
    "\n",
    "    for i, data_id in tqdm(enumerate(annotations_set[0].keys())):\n",
    "        image_path = get_image_path(data_id)\n",
    "        yolact_images.append({\n",
    "            \"license\": 0, \n",
    "            \"url\": None, \n",
    "            \"file_name\": image_path, \n",
    "            \"height\": shape[0], \n",
    "            \"width\": shape[1], \n",
    "            \"date_captured\": None, \n",
    "            \"id\": i\n",
    "        })\n",
    "\n",
    "        annotations = annotations_set[0][data_id]\n",
    "        for j in range(len(annotations['label'])):\n",
    "            label = annotations['label'][j]\n",
    "            coordinates = annotations['coordinates'][j]\n",
    "            xs = []\n",
    "            ys = []\n",
    "            for k in range(0, len(coordinates), 2):\n",
    "                xs.append(coordinates[k])\n",
    "                ys.append(coordinates[k+1])\n",
    "            xleft = float(np.round(min(xs)))\n",
    "            xright = float(np.round(max(xs)))\n",
    "            ytop = float(np.round(min(ys)))\n",
    "            ybottom = float(np.round(max(ys)))\n",
    "\n",
    "            coords = []\n",
    "            for k in range(0, len(coordinates), 2):\n",
    "                coords.append([coordinates[k], coordinates[k+1]])\n",
    "            coords = np.array(coords, dtype=np.int64)\n",
    "\n",
    "            yolact_annotations.append({\n",
    "                'id': nb_annotations,\n",
    "                'image_id': i,\n",
    "                'category_id': labels_categories_mapping[label],\n",
    "                'segmentation': [coordinates],\n",
    "                'bbox': [xleft, ytop, xright-xleft, ybottom-ytop],\n",
    "                'area': float(cv2.contourArea(coords)),\n",
    "                'iscrowd': 0\n",
    "\n",
    "            })\n",
    "            nb_annotations += 1\n",
    "            \n",
    "    annotations_yolact = {\n",
    "        \"info\": {\n",
    "            \"description\": None, \n",
    "            \"url\": None, \n",
    "            \"version\": None, \n",
    "            \"year\": 2021, \n",
    "            \"contributor\": None, \n",
    "            \"date_created\": \"2021-08-30 13:53:30.739511\"\n",
    "        }, \n",
    "        \"licenses\": [\n",
    "            {\n",
    "                \"url\": None, \n",
    "                \"id\": 0, \n",
    "                \"name\": None\n",
    "            }\n",
    "        ], \n",
    "        \"images\": yolact_images, \n",
    "        \"type\": \"instances\", \n",
    "        \"annotations\": yolact_annotations,\n",
    "        'categories': categories\n",
    "    }\n",
    "\n",
    "    save_json(annotations_set[1], annotations_yolact)\n",
    "    "
   ]
  },
  {
   "cell_type": "markdown",
   "id": "f2272911",
   "metadata": {},
   "source": [
    "### Yolact file modifications\n",
    "In data/config.py, change \"my_custom_dataset\" dict l.104\n",
    "\n",
    "Number of epochs can be changed in \"yolact_base_config\", l.519\n",
    "\n",
    "python yolact/train.py --batch_size=4 --resume weights/yolact_base_198_200000.pth\n"
   ]
  },
  {
   "cell_type": "markdown",
   "id": "02f01941",
   "metadata": {},
   "source": [
    "# Post weights"
   ]
  },
  {
   "cell_type": "code",
   "execution_count": null,
   "id": "3882f66f",
   "metadata": {},
   "outputs": [],
   "source": [
    "preprocessing = {}\n",
    "augmentations = {}\n",
    "order = []\n",
    "hyperparameters = {\n",
    "    'seed':seed\n",
    "}\n",
    "\n",
    "with open(train_annotations_path) as f:\n",
    "    train_annotations = json.load(f)\n",
    "training_set = list(train_annotations.keys())\n",
    "with open(val_annotations_path) as f:\n",
    "    val_annotations = json.load(f)\n",
    "val_set = list(val_annotations.keys())"
   ]
  },
  {
   "cell_type": "code",
   "execution_count": null,
   "id": "545155db",
   "metadata": {},
   "outputs": [],
   "source": [
    "post_dict = {\n",
    "    'name':'',   # TODO\n",
    "    'analysis_id': '1d48c0e4-e46e-4260-8a2d-809d425fb5da',   # ascodero - cuivre\n",
    "    'hyperparameters': hyperparameters, \n",
    "    'labels_output_mapping': label_to_int, \n",
    "    'train_set': training_set, \n",
    "    'validation_set':val_set,\n",
    "    'metadata':{\n",
    "        'model':'YOLACT', \n",
    "    }\n",
    "}\n",
    "\n",
    "weights_path = None  # TODO\n",
    "assert weights_path is not None\n",
    "weights_choice = \"\"  # TODO\n",
    "assert weights_choice is not None"
   ]
  },
  {
   "cell_type": "code",
   "execution_count": null,
   "id": "13bb50a2",
   "metadata": {},
   "outputs": [],
   "source": [
    "training_id = interactAPI.post_training(post_dict)\n",
    "print(training_id)\n",
    "if interactAPI.post_weights(weights_path, training_id['id']) == 204:\n",
    "    print('Sucess')\n",
    "interactAPI.put_training_weights_choice(weights_choice, training_id['id'])"
   ]
  }
 ],
 "metadata": {
  "kernelspec": {
   "display_name": "Python 3 (ipykernel)",
   "language": "python",
   "name": "python3"
  },
  "language_info": {
   "codemirror_mode": {
    "name": "ipython",
    "version": 3
   },
   "file_extension": ".py",
   "mimetype": "text/x-python",
   "name": "python",
   "nbconvert_exporter": "python",
   "pygments_lexer": "ipython3",
   "version": "3.9.4"
  }
 },
 "nbformat": 4,
 "nbformat_minor": 5
}
