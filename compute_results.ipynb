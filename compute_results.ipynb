{
 "cells": [
  {
   "cell_type": "code",
   "execution_count": 2,
   "metadata": {},
   "outputs": [],
   "source": [
    "import pandas as pd, numpy as np, os, glob, seaborn as sns"
   ]
  },
  {
   "cell_type": "code",
   "execution_count": 33,
   "metadata": {},
   "outputs": [],
   "source": [
    "def del_empty(lst):\n",
    "    if isinstance(lst, list):\n",
    "        return [del_empty(sub) for sub in lst if sub != []]\n",
    "    return lst\n",
    "\n",
    "def flatten(t):\n",
    "    return [item for sublist in t for item in sublist]"
   ]
  },
  {
   "cell_type": "code",
   "execution_count": 41,
   "metadata": {},
   "outputs": [],
   "source": [
    "base_dirs = ['./results/charts/slip-videos/', './results/charts/no-slip-videos']\n",
    "conditions = ['Slip', 'No-Slip']\n",
    "super_list = []\n",
    "for base_dir, condition in zip(base_dirs, conditions):\n",
    "    confidence_dirs = os.listdir(base_dir)\n",
    "    for dir in sorted(confidence_dirs):\n",
    "        lists = []\n",
    "        active_dir = os.path.join(base_dir, dir)\n",
    "        files_to_parse = glob.glob(active_dir + '/*.csv')\n",
    "        for file in sorted(files_to_parse):\n",
    "            parsed_confidence = os.path.dirname(file).split('/', 4)[4].split('-')[0:2]\n",
    "            addition = {'Condition': condition, 'Confidence': '.'.join(parsed_confidence)}\n",
    "            df = pd.read_csv(file)\n",
    "            df = df.drop(df.columns[0], axis = 1)\n",
    "            try:\n",
    "                output_dictionary = df.groupby(['File']).agg(num_falls = ('Track ID', 'count')).reset_index().to_dict('records')\n",
    "            except KeyError:\n",
    "                pass\n",
    "            if len(output_dictionary) == 0:\n",
    "                pass\n",
    "            else:\n",
    "                output_dictionary[0].update(addition)\n",
    "            lists.append(output_dictionary)\n",
    "        cleaned = del_empty(lists)\n",
    "        super_list.append(flatten(cleaned))\n",
    "df = pd.DataFrame(flatten(super_list))\n",
    "    "
   ]
  },
  {
   "cell_type": "code",
   "execution_count": 90,
   "metadata": {},
   "outputs": [],
   "source": [
    "compiled_df = df.groupby(['Condition', 'Confidence']).agg(num_videos = ('File', 'count')).reset_index()\n",
    "output_df = []\n",
    "for identity, data in compiled_df.groupby('Condition'):\n",
    "    if identity == 'No-Slip':\n",
    "        num = 270\n",
    "        column_name = 'FPR'\n",
    "        name = './results/no-slip-data.csv'\n",
    "    else:\n",
    "        num = 41\n",
    "        column_name = 'TPR'\n",
    "        name = './results/slip-data.csv'\n",
    "    data[column_name] = data['num_videos'].apply(lambda x: x/num)\n",
    "    finished_df = pd.DataFrame(data)\n",
    "    finished_df.to_csv(name)\n",
    "    output_df.append(finished_df.drop(['Condition', 'num_videos'], axis = 1))"
   ]
  },
  {
   "cell_type": "code",
   "execution_count": 84,
   "metadata": {},
   "outputs": [],
   "source": [
    "plotting_df = output_df[0].merge(output_df[1], how = 'inner', on = 'Confidence')"
   ]
  },
  {
   "cell_type": "code",
   "execution_count": 96,
   "metadata": {},
   "outputs": [],
   "source": [
    "plotting_df.to_csv('./results/tpr-fpr-data.csv')"
   ]
  },
  {
   "cell_type": "code",
   "execution_count": 95,
   "metadata": {},
   "outputs": [
    {
     "data": {
      "image/png": "[encoded data removed]",
      "text/plain": [
       "<Figure size 720x360 with 1 Axes>"
      ]
     },
     "metadata": {},
     "output_type": "display_data"
    }
   ],
   "source": [
    "import matplotlib.pyplot as plt\n",
    "f,ax = plt.subplots(1, figsize = (10,5))\n",
    "ax.plot(plotting_df['FPR'], plotting_df['TPR'])\n",
    "ax.plot([0, 1], [0, 1], 'k--')\n",
    "ax.set(xlim = [0.0, 1.0], ylim = [0.0, 1.0], xlabel = 'False Positive Rate', ylabel = 'True Positive Rate')\n",
    "f.savefig('./results/roc-curve-yolact-thresholds.png')\n"
   ]
  },
  {
   "cell_type": "code",
   "execution_count": null,
   "metadata": {},
   "outputs": [],
   "source": []
  }
 ],
 "metadata": {
  "interpreter": {
   "hash": "d7997ca2cf6f82a32cba4455fba40e779da088b6fcef0f47d94689f04f3d2f0e"
  },
  "kernelspec": {
   "display_name": "Python 3.7.12 64-bit ('YOLACT': conda)",
   "language": "python",
   "name": "python3"
  },
  "language_info": {
   "codemirror_mode": {
    "name": "ipython",
    "version": 3
   },
   "file_extension": ".py",
   "mimetype": "text/x-python",
   "name": "python",
   "nbconvert_exporter": "python",
   "pygments_lexer": "ipython3",
   "version": "3.7.12"
  },
  "orig_nbformat": 4
 },
 "nbformat": 4,
 "nbformat_minor": 2
}
